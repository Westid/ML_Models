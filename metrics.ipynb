{
 "cells": [
  {
   "cell_type": "code",
   "execution_count": 1,
   "id": "sapphire-samoa",
   "metadata": {},
   "outputs": [],
   "source": [
    "import numpy as np"
   ]
  },
  {
   "cell_type": "code",
   "execution_count": 2,
   "id": "junior-monroe",
   "metadata": {},
   "outputs": [],
   "source": [
    "def accuracy_score(y_true, y_predict, percent = 50):\n",
    "    percentile = np.percentile()\n",
    "    for i in range(y_true.shape[0]):\n",
    "        if y_true[i] == y_predict[i]:\n",
    "            res += 1\n",
    "    return res / np.shape(y_true)[0]"
   ]
  },
  {
   "cell_type": "code",
   "execution_count": 6,
   "id": "lovely-witch",
   "metadata": {},
   "outputs": [
    {
     "data": {
      "text/plain": [
       "1.0"
      ]
     },
     "execution_count": 6,
     "metadata": {},
     "output_type": "execute_result"
    }
   ],
   "source": [
    "a = np.array([[1, 0, 0], [0, 1, 0], [0, 0, 1], [0, 0, 1], [0, 0, 1], [0, 0, 1], [0, 1, 0]])\n",
    "np.percentile(a, 90)"
   ]
  },
  {
   "cell_type": "code",
   "execution_count": null,
   "id": "sonic-intranet",
   "metadata": {},
   "outputs": [],
   "source": []
  }
 ],
 "metadata": {
  "kernelspec": {
   "display_name": "Python 3",
   "language": "python",
   "name": "python3"
  },
  "language_info": {
   "codemirror_mode": {
    "name": "ipython",
    "version": 3
   },
   "file_extension": ".py",
   "mimetype": "text/x-python",
   "name": "python",
   "nbconvert_exporter": "python",
   "pygments_lexer": "ipython3",
   "version": "3.8.10"
  }
 },
 "nbformat": 4,
 "nbformat_minor": 5
}
