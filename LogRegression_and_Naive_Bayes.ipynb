{
 "cells": [
  {
   "cell_type": "code",
   "execution_count": 1,
   "id": "pregnant-tribute",
   "metadata": {},
   "outputs": [],
   "source": [
    "import numpy as np\n",
    "import pandas as pd"
   ]
  },
  {
   "cell_type": "code",
   "execution_count": null,
   "id": "heard-stomach",
   "metadata": {},
   "outputs": [],
   "source": []
  },
  {
   "cell_type": "code",
   "execution_count": null,
   "id": "foster-testimony",
   "metadata": {},
   "outputs": [],
   "source": []
  },
  {
   "cell_type": "code",
   "execution_count": 139,
   "id": "multiple-weight",
   "metadata": {},
   "outputs": [],
   "source": [
    "class MyLogisticRegression:\n",
    "    def __init__(self, penalty = \"l2\", max_iter = 1000, l1_ratio = None, random_state = None, \\\n",
    "                 tol = 0.0001, C = 1.0, learning_rate = 0.05, fit_intercept = True):\n",
    "        self.penalty = \"l2\"\n",
    "        self.max_iter = 100\n",
    "        \n",
    "        if l1_ratio == None:\n",
    "            self.l1_ratio = 0\n",
    "        else:\n",
    "            self.l1_ratio = l1_ratio\n",
    "        self.random_state = random_state\n",
    "        self.tol = tol\n",
    "        self.C = C\n",
    "        self.w = None\n",
    "        self.get_data = None\n",
    "        self.uniq_val = None\n",
    "        self.learning_rate = learning_rate\n",
    "        self.fit_intercept = fit_intercept\n",
    "        \n",
    "    def stochastic_gradient_step(self, X, y, w):\n",
    "        size, dim = np.shape(X)\n",
    "        L_func = lambda X, w : 1 / (1 + np.exp(-X.dot(w)))\n",
    "        grad = X.T.dot(L_func(X, w) - y)\n",
    "        return grad\n",
    "    \n",
    "    \n",
    "    def solver(self, X, y):\n",
    "        rand_gen = np.random.RandomState(self.random_state)\n",
    "        size, dim = np.shape(X)\n",
    "        \n",
    "        # случайная начальная инициализация\n",
    "        w = rand_gen.rand(dim)\n",
    "        weights_history = w\n",
    "        \n",
    "\n",
    "        for i in range(self.max_iter):\n",
    "            rand_indices = rand_gen.choice(size, int(size * 0.5))\n",
    "            grad = self.stochastic_gradient_step(X[rand_indices], y[rand_indices], w)\n",
    "\n",
    "            assert type(grad) == np.ndarray, 'неверный тип'\n",
    "            assert len(grad.shape) == 1, 'Необходимо вернуть одномерный вектор'\n",
    "            assert grad.shape[0] == len(w), 'длина вектора должна быть равной количеству весов'\n",
    "            \n",
    "            \n",
    "            w -= self.learning_rate * grad / (i + 1)\n",
    "\n",
    "            weights_history = np.vstack((weights_history, w))\n",
    "        return w\n",
    "    \n",
    "    \n",
    "    def fit(self, X, y):\n",
    "        if self.fit_intercept:\n",
    "            X = np.hstack((X, np.ones((X.shape[0], 1))))\n",
    "        self.w = self.solver(X, y)\n",
    "        \n",
    "        \n",
    "    def computation(self, X, get_data = \"prediction\"):\n",
    "        if self.fit_intercept:\n",
    "            X = np.hstack((X, np.ones((X.shape[0], 1))))\n",
    "        p1 = 1 / (1 + np.exp(-X.dot(self.w)))\n",
    "        p0 = 1 - p1\n",
    "        p_class = np.hstack((p1, p0))\n",
    "        \n",
    "        if get_data == \"predict_proba\":\n",
    "            return  p_class\n",
    "        \n",
    "        if get_data == \"predict\":\n",
    "            target_val = (p1 > 0.5).astype(np.int8)\n",
    "            return  target_val\n",
    "                    \n",
    "        if get_data == \"decision_function\":\n",
    "            return np.array(koef_expo)\n",
    "                      \n",
    "\n",
    "            \n",
    "    def predict(self, X):\n",
    "        predict_target_val = self.computation(X, \"predict\")\n",
    "        return predict_target_val\n",
    "    \n",
    "    def predict_proba(self, X):\n",
    "        pred_proba = self.computation(X, \"predict_proba\")\n",
    "        return pred_proba\n",
    "    \n",
    "    def decision_function(self, X):\n",
    "        decision_func = self.computation(X, \"decision_function\")\n",
    "        return decision_func"
   ]
  },
  {
   "cell_type": "code",
   "execution_count": 140,
   "id": "constant-interview",
   "metadata": {},
   "outputs": [],
   "source": [
    "from sklearn.datasets import make_moons\n",
    "\n",
    "X, y = make_moons(n_samples=600, noise=0.3)\n",
    "\n",
    "from sklearn.model_selection import train_test_split\n",
    "\n",
    "X_train, X_test, y_train, y_test = train_test_split(X, y, random_state=42, test_size=0.2)"
   ]
  },
  {
   "cell_type": "code",
   "execution_count": 141,
   "id": "endangered-tonight",
   "metadata": {},
   "outputs": [
    {
     "data": {
      "text/plain": [
       "array([1, 0, 0, 0, 1, 1, 0, 1, 1, 1, 0, 1, 1, 0, 0, 0, 0, 1, 1, 1, 1, 1,\n",
       "       1, 0, 0, 1, 0, 0, 1, 1, 0, 0, 0, 0, 0, 0, 0, 0, 0, 1, 1, 1, 1, 1,\n",
       "       1, 0, 0, 1, 1, 1, 0, 0, 0, 1, 1, 1, 1, 0, 0, 0, 0, 0, 1, 0, 1, 0,\n",
       "       1, 0, 0, 1, 1, 1, 1, 0, 0, 1, 1, 0, 1, 0, 0, 1, 1, 1, 1, 1, 0, 0,\n",
       "       1, 0, 0, 0, 0, 0, 1, 1, 0, 1, 0, 0, 1, 1, 0, 0, 1, 1, 1, 1, 0, 1,\n",
       "       1, 0, 1, 1, 1, 1, 0, 1, 1, 0], dtype=int8)"
      ]
     },
     "execution_count": 141,
     "metadata": {},
     "output_type": "execute_result"
    }
   ],
   "source": [
    "my_logreg = MyLogisticRegression()\n",
    "my_logreg.fit(X_train, y_train)\n",
    "my_logreg.predict(X_test)"
   ]
  },
  {
   "cell_type": "code",
   "execution_count": 149,
   "id": "liberal-transsexual",
   "metadata": {},
   "outputs": [
    {
     "name": "stdout",
     "output_type": "stream",
     "text": [
      "0.8062937062937062\n"
     ]
    }
   ],
   "source": [
    "from sklearn.metrics import accuracy_score\n",
    "from sklearn.metrics import roc_auc_score\n",
    "\n",
    "accuracy_score(y_test, my_logreg.predict(X_test))\n",
    "print(roc_auc_score(y_test, my_logreg.predict(X_test)))"
   ]
  },
  {
   "cell_type": "code",
   "execution_count": 31,
   "id": "technological-salmon",
   "metadata": {},
   "outputs": [],
   "source": [
    "data = pd.read_csv(\"weatherAUS.csv\")\n",
    "X = data.iloc[:, 0:-2]\n",
    "y = data.iloc[:, -1]"
   ]
  },
  {
   "cell_type": "code",
   "execution_count": null,
   "id": "acceptable-major",
   "metadata": {},
   "outputs": [],
   "source": []
  },
  {
   "cell_type": "code",
   "execution_count": 36,
   "id": "integral-worker",
   "metadata": {},
   "outputs": [
    {
     "name": "stdout",
     "output_type": "stream",
     "text": [
      "[1 1 0 1 0 0 1 1 1 0 0 1 0 0 1 1 1 0 1 1 0 1 1 0 0 0 1 1 0 0 1 1 0 1 0 0 0\n",
      " 0 1 0 0 1 0 1 1 0 1 1 0 1 0 1 1 0 1 0 1 0 0 0 0 0 1 1 1 0 0 1 1 1 1 1 0 0\n",
      " 1 0 1 0 1 0 1 1 0 0 1 0 1 0 1 0 0 1 1 0 0 1 0 0 0 0 1 1 0 1 0 1 1 0 1 1 1\n",
      " 0 0 1 0 0 1 1 1 0 0 1 1 0 0 1 0 0 1 1 0 0 0 1 1 0 1 0 0 0 1 0 1 1 0 0 1 0\n",
      " 0 0 1 0 1 1 1 0 0 0 1 1 0 1 1 0 0 1 0 1 1 0 1 1 1 0 0 1 0 0 1 0 1 0 0 0 0\n",
      " 0 0 0 1 0 0 0 0 0 1 0 1 0 0 1 1 0 1 1 0 1 1 0 0 0 1 1 1 0 0 1 1 0 1 1 1 0\n",
      " 1 0 0 1 1 0 0 1 0 1 1 1 1 1 0 0 1 1 1 1 1 0 1 0 1 0 0 0 0 0 0 1 1 1 0 1 0\n",
      " 1 0 0 1 1 1 0 1 1 1 0 0 0 0 1 0 1 1 1 1 0 1 0 0 0 1 0 1 0 0 0 1 0 0 1 1 1\n",
      " 1 1 1 1]\n"
     ]
    },
    {
     "data": {
      "image/png": "[encoded data removed]",
      "text/plain": [
       "<Figure size 432x288 with 1 Axes>"
      ]
     },
     "metadata": {
      "needs_background": "light"
     },
     "output_type": "display_data"
    }
   ],
   "source": [
    "from sklearn.datasets import make_moons\n",
    "\n",
    "X, y = make_moons(n_samples=300, noise=0.3)\n",
    "import matplotlib.pyplot as plt\n",
    "plt.scatter(X[:, 0], X[:, 1])\n",
    "print(y)"
   ]
  },
  {
   "cell_type": "code",
   "execution_count": null,
   "id": "bearing-casting",
   "metadata": {},
   "outputs": [],
   "source": []
  },
  {
   "cell_type": "code",
   "execution_count": 68,
   "id": "active-combat",
   "metadata": {},
   "outputs": [],
   "source": [
    "class NaiveBayesClassifier:\n",
    "    def __init__(self, distribution = \"Normal\"):\n",
    "        self.distribution = distribution\n",
    "        self.predict_probability = None\n",
    "        self.target_value = None\n",
    "        self.X = None\n",
    "        self.y = None\n",
    "        self.mean = None\n",
    "        self.std = None\n",
    "    \n",
    "    def fit(self, X, y):\n",
    "        self.X = X\n",
    "        self.y = y.astype(np.int8)\n",
    "        \n",
    "        \n",
    "    def computation(self, X):\n",
    "    # При вызове методов predict, predict_proba, kneighbors мы по-новой создаем данные контейнеры информации\n",
    "    # это делается для того, чтобы при вызове методов с разными данными/\n",
    "    #не происходило заполнение уже заполненных контейнеров \n",
    "        \n",
    "        self.predict_probability = np.array([])\n",
    "        self.target_value = np.array([])\n",
    "        \n",
    "        mean_val = lambda y_val:self.X[self.y==y_val].mean(axis=0)\n",
    "        std_val = lambda y_val: self.X[self.y==y_val].std(axis=0)\n",
    "        p_y = lambda y_val: np.size(self.y[self.y == y_val]) / np.size(self.y)\n",
    "        \n",
    "        \n",
    "        if self.distribution == \"Normal\":\n",
    "            prob = lambda x, y_val: np.exp(-np.power(x - mean_val(y_val), 2) \\\n",
    "                / (2 * np.power(std_val(y_val), 2))) / np.sqrt(2 * np.pi * np.power(std_val(y_val), 2))\n",
    "        \n",
    "        \n",
    "        for elem in X:\n",
    "            flag = np.array([0, 0], dtype = np.int8)\n",
    "            \n",
    "            for target in np.array([0, 1], dtype = np.int8):\n",
    "                test_val = np.log(p_y(target)) + np.sum(np.log(prob(elem, target))) \n",
    "\n",
    "                if test_val > flag[1]:\n",
    "                    flag[0] = target\n",
    "                    flag[1] = test_val\n",
    "            self.target_value = np.append(self.target_value, flag[0])\n",
    "            self.predict_probability = np.append(self.target_value, np.exp(flag[1]))\n",
    "       \n",
    "\n",
    "    \n",
    "    def predict(self, X):\n",
    "        self.computation(X)\n",
    "        return self.target_value\n",
    "    \n",
    "    def predict_probability(self, X):\n",
    "        self.computation(X)\n",
    "        return self.predict_probability\n"
   ]
  },
  {
   "cell_type": "code",
   "execution_count": null,
   "id": "political-overall",
   "metadata": {},
   "outputs": [],
   "source": []
  },
  {
   "cell_type": "code",
   "execution_count": null,
   "id": "single-string",
   "metadata": {},
   "outputs": [],
   "source": []
  },
  {
   "cell_type": "code",
   "execution_count": 146,
   "id": "tutorial-console",
   "metadata": {},
   "outputs": [],
   "source": [
    "class NaiveBayesClassifier:\n",
    "    def __init__(self, distribution = \"Normal\"):\n",
    "        self.distribution = distribution\n",
    "        self.predict_probability = None\n",
    "        self.target_value = None\n",
    "        self.p_y = None\n",
    "        self.mean = None\n",
    "        self.std = None\n",
    "        self.std_X = None\n",
    "        self.mean_X = None\n",
    "    \n",
    "    def fit(self, X, y):\n",
    "        mean_0 = np.mean(X[y == 0])\n",
    "        mean_1 = np.mean(X[y == 1])\n",
    "        \n",
    "        std_0 = np.std(X[y == 0])\n",
    "        std_1 = np.std(X[y == 1])\n",
    "        un_val, count_0 = np.unique(y, return_counts=True)\n",
    "\n",
    "        self.mean = np.array([mean_0, mean_1])\n",
    "        self.std = np.array([std_0, std_1])\n",
    "        self.p_y = np.array([count_0[un_val == 0], count_0[un_val == 1]]) / np.shape(y)[0]\n",
    "        self.mean_X = np.mean(X)\n",
    "        self.std_X = np.std(X)\n",
    "\n",
    "        \n",
    "        \n",
    "    def computation(self, X, get_val = \"predict\"):\n",
    "\n",
    "        p_y = lambda y_val: np.size(self.y[self.y == y_val]) / np.size(self.y)\n",
    "        \n",
    "        \n",
    "        if self.distribution == \"Normal\":\n",
    "            p_X_y = lambda x, mean, std: np.exp(-np.power(x - mean, 2) \\\n",
    "                / (2 * np.power(std, 2))) / np.sqrt(2 * np.pi * np.power(std, 2))\n",
    "        \n",
    "\n",
    "        prob_0 = np.prod(p_X_y(X, self.mean[0], self.std[0]), axis = 1) * self.p_y[0]\n",
    "        prob_1 = np.prod(p_X_y(X, self.mean[1], self.std[1]), axis = 1) * self.p_y[1]\n",
    "        \n",
    "        if get_val == \"predict\":\n",
    "            return (prob_1 > prob_0).astype(np.int8)\n",
    "        \n",
    "        if get_val == \"predict_proba\":\n",
    "            pred_proba = np.array([prob_0 , prob_1]) / np.prod(p_X_y(X, self.mean_X, self.std_X), axis=1)\n",
    "            return pred_proba\n",
    "            \n",
    "\n",
    "    \n",
    "    def predict(self, X): \n",
    "        return self.computation(X, \"predict\") \n",
    "    \n",
    "    def predict_probability(self, X):\n",
    "        return self.computation(X, \"predict_proba\")\n"
   ]
  },
  {
   "cell_type": "code",
   "execution_count": 147,
   "id": "moral-component",
   "metadata": {},
   "outputs": [],
   "source": [
    "from sklearn.datasets import make_moons\n",
    "\n",
    "X, y = make_moons(n_samples=600, noise=0.3)\n",
    "\n",
    "from sklearn.model_selection import train_test_split\n",
    "\n",
    "X_train, X_test, y_train, y_test = train_test_split(X, y, random_state=42, test_size=0.2)"
   ]
  },
  {
   "cell_type": "code",
   "execution_count": 148,
   "id": "authorized-campus",
   "metadata": {},
   "outputs": [
    {
     "data": {
      "text/plain": [
       "0.49166666666666664"
      ]
     },
     "execution_count": 148,
     "metadata": {},
     "output_type": "execute_result"
    }
   ],
   "source": [
    "MyBayes = NaiveBayesClassifier()\n",
    "MyBayes.fit(X_train, y_train)\n",
    "predict = MyBayes.predict(X_test)\n",
    "accuracy_score(y_test, predict)"
   ]
  },
  {
   "cell_type": "code",
   "execution_count": null,
   "id": "canadian-leadership",
   "metadata": {},
   "outputs": [],
   "source": []
  },
  {
   "cell_type": "code",
   "execution_count": null,
   "id": "fifth-baseball",
   "metadata": {},
   "outputs": [],
   "source": []
  },
  {
   "cell_type": "code",
   "execution_count": null,
   "id": "vulnerable-slope",
   "metadata": {},
   "outputs": [],
   "source": [
    "class NaiveBayesClassifier:\n",
    "    def __init__(self, distribution = \"Normal\", random_state = None):\n",
    "        self.distribution = distribution\n",
    "        self.random_state = random_state\n",
    "        self.p_y = None\n",
    "        self.mean = None\n",
    "        self.std = None\n",
    "        self.std_X = None\n",
    "        self.mean_X = None\n",
    "        \n",
    "    def stochastic_gradient_step:\n",
    "        \n",
    "        \n",
    "    \n",
    "    def fit(self, X, y):\n",
    "        mean_0 = np.mean(X[y == 0])\n",
    "        mean_1 = np.mean(X[y == 1])\n",
    "        \n",
    "        std_0 = np.std(X[y == 0])\n",
    "        std_1 = np.std(X[y == 1])\n",
    "        un_val, count_0 = np.unique(y, return_counts=True)\n",
    "\n",
    "        self.mean = np.array([mean_0, mean_1])\n",
    "        self.std = np.array([std_0, std_1])\n",
    "        self.p_y = np.array([count_0[un_val == 0], count_0[un_val == 1]]) / np.shape(y)[0]\n",
    "        self.mean_X = np.mean(X)\n",
    "        self.std_X = np.std(X)\n",
    "\n",
    "        \n",
    "        \n",
    "    def computation(self, X, get_val = \"predict\"):\n",
    "\n",
    "        p_y = lambda y_val: np.size(self.y[self.y == y_val]) / np.size(self.y)\n",
    "        \n",
    "        \n",
    "        if self.distribution == \"Normal\":\n",
    "            p_X_y = lambda x, mean, std: np.exp(-np.power(x - mean, 2) \\\n",
    "                / (2 * np.power(std, 2))) / np.sqrt(2 * np.pi * np.power(std, 2))\n",
    "        \n",
    "\n",
    "        prob_0 = np.prod(p_X_y(X, self.mean[0], self.std[0]), axis = 1) * self.p_y[0]\n",
    "        prob_1 = np.prod(p_X_y(X, self.mean[1], self.std[1]), axis = 1) * self.p_y[1]\n",
    "        \n",
    "        if get_val == \"predict\":\n",
    "            return (prob_1 > prob_0).astype(np.int8)\n",
    "        \n",
    "        if get_val == \"predict_proba\":\n",
    "            pred_proba = np.array([prob_0 , prob_1]) / np.prod(p_X_y(X, self.mean_X, self.std_X), axis=1)\n",
    "            return pred_proba\n",
    "            \n",
    "\n",
    "    \n",
    "    def predict(self, X): \n",
    "        return self.computation(X, \"predict\") \n",
    "    \n",
    "    def predict_probability(self, X):\n",
    "        return self.computation(X, \"predict_proba\")\n"
   ]
  }
 ],
 "metadata": {
  "kernelspec": {
   "display_name": "Python 3",
   "language": "python",
   "name": "python3"
  },
  "language_info": {
   "codemirror_mode": {
    "name": "ipython",
    "version": 3
   },
   "file_extension": ".py",
   "mimetype": "text/x-python",
   "name": "python",
   "nbconvert_exporter": "python",
   "pygments_lexer": "ipython3",
   "version": "3.8.10"
  }
 },
 "nbformat": 4,
 "nbformat_minor": 5
}
